{
 "cells": [
  {
   "cell_type": "markdown",
   "id": "4b34307b-3194-4eee-b918-d161635caa23",
   "metadata": {},
   "source": [
    "It is assumed that the mean systolic blood pressure is μ = 120 mm Hg. In the Honolulu Heart Study, a sample of n = 100 people had an average systolic blood pressure of 130.1 mm Hg with a standard deviation of 21.21 mm Hg. Is the group significantly different (with respect to systolic blood pressure!) from the regular population?\n",
    "\n",
    "- Set up the hypothesis test.\n",
    "- Write down all the steps followed for setting up the test.\n",
    "- Calculate the test statistic by hand and also code it in Python. It should be 4.76190. We will take a look at how to make decisions based on this calculated value."
   ]
  },
  {
   "cell_type": "code",
   "execution_count": 5,
   "id": "e9153a95-5e4a-4c11-a743-5568b1f4881d",
   "metadata": {},
   "outputs": [],
   "source": [
    "# Libraries\n",
    "import math\n",
    "import pandas as pd\n",
    "import numpy as np\n",
    "import matplotlib.pyplot as plt\n",
    "import scipy.stats as st\n",
    "import statsmodels.api as sm\n",
    "import statsmodels.formula.api as smf"
   ]
  },
  {
   "cell_type": "code",
   "execution_count": 24,
   "id": "8ef7655a-a1f2-488c-9252-2e246c310791",
   "metadata": {},
   "outputs": [
    {
     "name": "stdout",
     "output_type": "stream",
     "text": [
      "Null Hypothesis (H₀): The mean systolic blood pressure is 120 mm Hg\n",
      "Alternate Hypothesis (H₁): The mean systolic blood pressure is not 120 mm Hg\n"
     ]
    }
   ],
   "source": [
    "# Hypotheses\n",
    "null_hypothesis = \"The mean systolic blood pressure is 120 mm Hg\"  # H₀\n",
    "alt_hypothesis = \"The mean systolic blood pressure is not 120 mm Hg\"  # H₁\n",
    "\n",
    "print(f\"Null Hypothesis (H₀): {null_hypothesis}\")\n",
    "print(f\"Alternate Hypothesis (H₁): {alt_hypothesis}\")"
   ]
  },
  {
   "cell_type": "code",
   "execution_count": null,
   "id": "53c3db35-460f-409d-9678-0ebd95bd7e98",
   "metadata": {},
   "outputs": [],
   "source": [
    "# Como no conocemos la desviación estándar de la población (sigma), cogemos directamente la s (desviación estándar de la muestra)"
   ]
  },
  {
   "cell_type": "code",
   "execution_count": 26,
   "id": "65d7c94c-e33e-4621-9cc8-87d8cbc48dfe",
   "metadata": {},
   "outputs": [
    {
     "name": "stdout",
     "output_type": "stream",
     "text": [
      "Level of Significance (α): 0.05\n"
     ]
    }
   ],
   "source": [
    "# 5% significance level\n",
    "alpha = 0.05  \n",
    "print(f\"Level of Significance (α): {alpha}\")"
   ]
  },
  {
   "cell_type": "code",
   "execution_count": 28,
   "id": "61e0af93-813f-4f48-bb8a-04fbc232d883",
   "metadata": {},
   "outputs": [
    {
     "name": "stdout",
     "output_type": "stream",
     "text": [
      "Test Statistic (T): 21.26\n"
     ]
    }
   ],
   "source": [
    "# Collect Data\n",
    "n = 100 # Population\n",
    "mu = 85 # Hypothesized population mean\n",
    "s = 21.21 # Sample standard deviation \n",
    "xbarra = 130.1  # \n",
    "# Sacamos el valor de t (utilizamos t-student porque no tenemos desviación de la poblicación == SIGMA)\n",
    "t_stat = ( xbarra - mu) / ( s / (n**0.5))\n",
    "print(f\"Test Statistic (T): {t_stat:.2f}\")"
   ]
  },
  {
   "cell_type": "code",
   "execution_count": 30,
   "id": "cd637713-3165-4d06-bb96-48e29ef10fb1",
   "metadata": {},
   "outputs": [
    {
     "name": "stdout",
     "output_type": "stream",
     "text": [
      "P-Value: 0.0000\n"
     ]
    }
   ],
   "source": [
    "# Determine p-Value for Two-Tailed Test\n",
    "p_value = st.t.sf(np.abs(t_stat), df=n-1)  \n",
    "print(f\"P-Value: {p_value:.4f}\")"
   ]
  },
  {
   "cell_type": "code",
   "execution_count": 34,
   "id": "e3029016-bc90-4fe4-96d1-14bec4fb29e6",
   "metadata": {},
   "outputs": [
    {
     "name": "stdout",
     "output_type": "stream",
     "text": [
      "Reject the Null Hypothesis: There is evidence to say the mean systolic blood pressure is different from 120 mm Hg.\n"
     ]
    }
   ],
   "source": [
    "# Step 6: Decision-Making\n",
    "if p_value > alpha:\n",
    "    print(\"Fail to Reject the Null Hypothesis: Not enough evidence to say that the mean systolic blood pressure is different from 120 mm Hg.\")\n",
    "else:\n",
    "    print(\"Reject the Null Hypothesis: There is evidence to say the mean systolic blood pressure is different from 120 mm Hg.\")"
   ]
  }
 ],
 "metadata": {
  "kernelspec": {
   "display_name": "Python 3 (ipykernel)",
   "language": "python",
   "name": "python3"
  },
  "language_info": {
   "codemirror_mode": {
    "name": "ipython",
    "version": 3
   },
   "file_extension": ".py",
   "mimetype": "text/x-python",
   "name": "python",
   "nbconvert_exporter": "python",
   "pygments_lexer": "ipython3",
   "version": "3.12.4"
  }
 },
 "nbformat": 4,
 "nbformat_minor": 5
}
